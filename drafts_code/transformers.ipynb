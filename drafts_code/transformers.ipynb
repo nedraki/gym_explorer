{
 "cells": [
  {
   "cell_type": "code",
   "execution_count": null,
   "metadata": {},
   "outputs": [],
   "source": [
    "# pip install git+https://github.com/dmmiller612/bert-extractive-summarizer.git@small-updates"
   ]
  },
  {
   "cell_type": "code",
   "execution_count": null,
   "metadata": {},
   "outputs": [],
   "source": [
    "# pip install summarizer"
   ]
  },
  {
   "cell_type": "code",
   "execution_count": null,
   "metadata": {},
   "outputs": [],
   "source": [
    "text = ''' Venezuela (/ˌvɛnəˈzweɪlə/; American Spanish: [beneˈswela] (About this soundlisten)), officially the Bolivarian Republic of Venezuela (Spanish: República Bolivariana de Venezuela),[12] is a country on the northern coast of South America, consisting of a continental landmass and many islands and islets in the Caribbean Sea. It has a territorial extension of 916,445 km2 (353,841 sq mi), and the population of Venezuela was estimated at 28 million in 2019.[7] The capital and largest urban agglomeration is the city of Caracas.\n",
    "\n",
    "The continental territory is bordered on the north by the Caribbean Sea and the Atlantic Ocean, on the west by Colombia, Brazil on the south, Trinidad and Tobago to the north-east and on the east by Guyana. The Venezuelan government maintains a claim against Guyana to Guayana Esequiba.[13] Venezuela is a federal presidential republic consisting of 23 states, the Capital District and federal dependencies covering Venezuela's offshore islands. Venezuela is among the most urbanized countries in Latin America;[14][15] the vast majority of Venezuelans live in the cities of the north and in the capital.\n",
    "\n",
    "The territory of Venezuela was colonized by Spain in 1522 amid resistance from indigenous peoples. In 1811, it became one of the first Spanish-American territories to declare independence from the Spanish and to form part, as a department, of the first federal Republic of Colombia (historiographically known as Gran Colombia). It separated as a full sovereign country in 1830. During the 19th century, Venezuela suffered political turmoil and autocracy, remaining dominated by regional military dictators until the mid-20th century. Since 1958, the country has had a series of democratic governments, as an exception where most of the region was ruled by military dictatorships, and the period was characterized by economic prosperity. Economic shocks in the 1980s and 1990s led to major political crises and widespread social unrest, including the deadly Caracazo riots of 1989, two attempted coups in 1992, and the impeachment of a President for embezzlement of public funds charges in 1993. The collapse in confidence in the existing parties saw the 1998 Venezuelan presidential election, the catalyst for the Bolivarian Revolution, which began with a 1999 Constituent Assembly, where a new Constitution of Venezuela was imposed. The government populist social welfare policies were bolstered by soaring oil prices,[16] temporarily increasing social spending,[17] and reducing economic inequality and poverty in the early years of the regime.[22] The 2013 Venezuelan presidential election was widely disputed leading to widespread protest, which triggered another nationwide crisis that continues to this day.[23]'''"
   ]
  },
  {
   "cell_type": "code",
   "execution_count": null,
   "metadata": {},
   "outputs": [],
   "source": [
    "from summarizer import Summarizer\n",
    "#Create default summarizer model\n",
    "model = Summarizer()\n",
    "# Extract summary out of ''text\"\n",
    "# min_length = Minimum number of words.\n",
    "# ratio = 1% of total sentences will be in summary.\n",
    "model(text, min_length=60, ratio=0.01)"
   ]
  },
  {
   "cell_type": "code",
   "execution_count": null,
   "metadata": {},
   "outputs": [],
   "source": []
  }
 ],
 "metadata": {
  "kernelspec": {
   "display_name": "scraping",
   "language": "python",
   "name": "scraping"
  },
  "language_info": {
   "codemirror_mode": {
    "name": "ipython",
    "version": 3
   },
   "file_extension": ".py",
   "mimetype": "text/x-python",
   "name": "python",
   "nbconvert_exporter": "python",
   "pygments_lexer": "ipython3",
   "version": "3.8.5"
  },
  "toc": {
   "base_numbering": 1,
   "nav_menu": {},
   "number_sections": true,
   "sideBar": true,
   "skip_h1_title": false,
   "title_cell": "Table of Contents",
   "title_sidebar": "Contents",
   "toc_cell": false,
   "toc_position": {},
   "toc_section_display": true,
   "toc_window_display": false
  }
 },
 "nbformat": 4,
 "nbformat_minor": 4
}
